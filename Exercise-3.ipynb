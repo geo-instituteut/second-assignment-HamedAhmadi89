{
 "cells": [
  {
   "cell_type": "markdown",
   "id": "1e934775",
   "metadata": {},
   "source": [
    "## Problem 1 - Simple temperature calculator \n",
    "\n",
    "In the first problem your aim is to create a function that converts the input temperature from degrees Fahrenheit to degrees Celsius. The conversion formula from Fahrenheit to Celsius can be found below.\n",
    "\n",
    "\\begin{equation}\n",
    "  \\Large\n",
    "  T_{\\mathrm{Celsius}} = \\left( T_{\\mathrm{Fahrenheit}} - 32 \\right) / 1.8\n",
    "\\end{equation}\n",
    "\n",
    "If everything in your script is working properly the following test case should work:\n",
    "\n",
    "```python\n",
    ">>> print(f\"32 degrees Fahrenheit is equal to {fahr_to_celsius(32)} degrees Celsius.\")\n",
    "32 degrees Fahrenheit is equal to 0.0 degrees Celsius.\n",
    "```\n",
    "\n",
    "For this problem you will need to modify the code blocks below and add code to produce the desired outcomes. \n",
    "\n"
   ]
  },
  {
   "cell_type": "markdown",
   "id": "be51eb3f",
   "metadata": {},
   "source": [
    "## Part 1 \n",
    "\n",
    "Create a function in the cell below to convert temperatures from Fahrenheit to Celsius.\n",
    "\n",
    "- The function should be called `fahr_to_celsius`\n",
    "- It should have one parameter called `temp_fahrenheit`\n",
    "- It should return a single value, the converted temperature\n",
    "- You should include some inline comments and a docstring"
   ]
  },
  {
   "cell_type": "code",
   "execution_count": 1,
   "id": "3972e36b",
   "metadata": {},
   "outputs": [],
   "source": [
    "# YOUR CODE HERE"
   ]
  },
  {
   "cell_type": "markdown",
   "id": "017ba335",
   "metadata": {},
   "source": [
    "Use your newly created function to print answers to the following questions:"
   ]
  },
  {
   "cell_type": "code",
   "execution_count": 2,
   "id": "fe64c7c5",
   "metadata": {},
   "outputs": [],
   "source": [
    "# 1. What is 48° Fahrenheit in Celsius? \n",
    "\n",
    "# 2. What about 71° Fahrenheit in Celsius?"
   ]
  },
  {
   "cell_type": "markdown",
   "id": "0a432439",
   "metadata": {},
   "source": [
    "## Part 2 \n",
    "\n",
    "We would like you to think about and answer the following questions based on the materials and ideas that you learned during the lecture.\n",
    "\n",
    "1. Is the concept of function clear to you? If not, what do you not understand?\n",
    "2. What are some of the benefits of using functions?\n",
    "  \n",
    "Write your answers below (**activate the cell by double clicking**)."
   ]
  },
  {
   "cell_type": "markdown",
   "id": "6a175dd0",
   "metadata": {},
   "source": [
    "YOUR ANSWER HERE"
   ]
  },
  {
   "cell_type": "markdown",
   "id": "5b23a993",
   "metadata": {},
   "source": [
    "## Problem 2 - Temperature classifier \n",
    "\n",
    "\n",
    "Here, you should create a function called `temp_classifier` that accepts a temperature value in Celsius that will be reclassified into integer numbers 0-3 based on following criteria:\n",
    "\n",
    "| Return value | Classification criteria                                                  |\n",
    "| :----------: | :----------------------------------------------------------------------- |\n",
    "| 0            | Temperatures below -2 degrees Celsius                                    |\n",
    "| 1            | Temperatures equal or warmer than -2, but less than +2 degrees Celsius   |\n",
    "| 2            | Temperatures equal or warmer than +2, but less than +15 degrees Celsius  |\n",
    "| 3            | Temperatures equal or warmer than +15 degrees Celsius                    |\n",
    "\n"
   ]
  },
  {
   "cell_type": "markdown",
   "id": "d6937faf",
   "metadata": {},
   "source": [
    "## Part 1 \n",
    "\n",
    "Create a function in the cell below to classify temperatures as directed.\n",
    "\n",
    "- Your function should be called `temp_classifier`\n",
    "- It should have a single parameter called `temp_celsius`\n",
    "- It should properly classify temperatures for a given temperature input value"
   ]
  },
  {
   "cell_type": "code",
   "execution_count": 5,
   "id": "e73b5288",
   "metadata": {},
   "outputs": [],
   "source": [
    "# YOUR CODE HERE"
   ]
  },
  {
   "cell_type": "markdown",
   "id": "72764834",
   "metadata": {},
   "source": [
    "Use your newly created function to print the answers to the following questions:"
   ]
  },
  {
   "cell_type": "code",
   "execution_count": 6,
   "id": "e3c4b082",
   "metadata": {},
   "outputs": [],
   "source": [
    "# 1. What is the class value for 16.5 degrees Celsius?\n",
    "\n",
    "# 2. What is the class value for +2 degrees Celsius?"
   ]
  },
  {
   "cell_type": "markdown",
   "id": "df65ad2a",
   "metadata": {},
   "source": [
    "## Problem 3 - Applying the classifier \n",
    "\n",
    "Finally, we can bring together the pieces that we have created in problems 1 and 2. Here, your aim is to take\n",
    "advantage of your new functions and sort a dataset of temperatures in Fahrenheit into four different classes.\n",
    "\n"
   ]
  },
  {
   "cell_type": "markdown",
   "id": "5163f96d",
   "metadata": {},
   "source": [
    "### Part 1: Creating a script file\n",
    "\n",
    "For this part you should\n",
    "\n",
    "- Create a new **script file** called `temp_functions.py` in your `exercise-3"
   ]
  },
  {
   "cell_type": "markdown",
   "id": "c8cb901c",
   "metadata": {},
   "source": [
    "### Part 2: Convert Fahrenheit temperatures to Celsius \n",
    "\n",
    "For this part you should\n",
    "\n",
    "1. Store the Fahrenheit temperatures below into the list `temp_data` (just execute the existing code cell below)."
   ]
  },
  {
   "cell_type": "code",
   "execution_count": 8,
   "id": "fdfafc02",
   "metadata": {},
   "outputs": [],
   "source": [
    "# List of half-hourly temperature values (in degrees Fahrenheit) for one week\n",
    "temp_data =  [19, 21, 21, 21, 23, 23, 23, 21, 19, 21, 19, 21, 23, 27, 27, 28, 30, 30, 32, 32, 32, 32, \n",
    "              34, 34, 34, 36, 36, 36, 36, 36, 36, 34, 34, 34, 34, 34, 34, 32, 30, 30, 30, 28, 28, 27,\n",
    "              27, 27, 23, 23, 21, 21, 21, 19, 19, 19, 18, 18, 21, 27, 28, 30, 32, 34, 36, 37, 37, 37, \n",
    "              39, 39, 39, 39, 39, 39, 41, 41, 41, 41, 41, 39, 39, 37, 37, 36, 36, 34, 34, 32, 30, 30,\n",
    "              28, 27, 27, 25, 23, 23, 21, 21, 19, 19, 19, 18, 18, 18, 21, 25, 27, 28, 34, 34, 41, 37, \n",
    "              37, 39, 39, 39, 39, 41, 41, 39, 39, 39, 39, 39, 41, 39, 39, 39, 37, 36, 34, 32, 28, 28,\n",
    "              27, 25, 25, 25, 23, 23, 23, 23, 21, 21, 21, 21, 19, 21, 19, 21, 21, 19, 21, 27, 28, 32,\n",
    "              36, 36, 37, 39, 39, 39, 39, 39, 41, 41, 41, 41, 41, 41, 41, 41, 41, 39, 37, 36, 36, 34,\n",
    "              32, 30, 28, 28, 27, 27, 25, 25, 23, 23, 23, 21, 21, 21, 19, 19, 19, 19, 19, 19, 21, 23,\n",
    "              23, 23, 25, 27, 30, 36, 37, 37, 39, 39, 41, 41, 41, 39, 39, 41, 43, 43, 43, 43, 43, 43,\n",
    "              43, 43, 43, 39, 37, 37, 37, 36, 36, 36, 36, 34, 32, 32, 32, 32, 30, 30, 28, 28, 28, 27,\n",
    "              27, 27, 27, 25, 27, 27, 27, 28, 28, 28, 30, 32, 32, 32, 34, 34, 36, 36, 36, 37, 37, 37,\n",
    "              37, 37, 37, 37, 37, 37, 36, 34, 30, 30, 27, 27, 25, 25, 23, 21, 21, 21, 21, 19, 19, 19,\n",
    "              19, 19, 18, 18, 18, 18, 18, 19, 23, 27, 30, 32, 32, 32, 32, 32, 32, 34, 34, 34, 34, 34,\n",
    "              36, 36, 36, 36, 36, 32, 32, 32, 32, 32, 32, 32, 32, 30, 30, 30, 30, 30, 30, 30, 30, 30,\n",
    "              30, 30, 30, 30, 28, 28]"
   ]
  },
  {
   "cell_type": "markdown",
   "id": "5e21e748",
   "metadata": {},
   "source": [
    "#### Part 2(continues)\n",
    "\n",
    "2. Import the `fahr_to_celsius` and `temp_classifier` functions from your `temp_functions.py` script\n",
    "3. Create an empty list called `temp_classes` (which will be filled with temperature class numbers later)\n",
    "4. **Convert the Fahrenheit temperatures** in the `temp_data` list into Celsius and **classify the Celsius temperatures** using the importend functions. The output should be stored in the `temp_classes` list.\n",
    " \n",
    "    **You can do the temperature conversion and classification inside one for loop:**\n",
    "\n",
    "    - Iterate over the list of Fahrenheit temperatures (i.e., create a `for` loop), and inside the loop:\n",
    "\n",
    "        1. Create a new variable called `temp_celsius` in which you assign the temperature in Celsius using the `fahr_to_celsius` function to convert the Fahrenheit temperature into Celsius\n",
    "        2. Create a new variable called `temp_class` in which you assign the temperature class number (0, 1, 2, or 3) using the `temp_classifier` function\n",
    "        3. Add the `temp_class` value to the `temp_classes` list"
   ]
  },
  {
   "cell_type": "markdown",
   "id": "ae934fcf",
   "metadata": {},
   "source": [
    "#### Part 2 (continues)\n",
    "\n",
    "6. Calculate how many temperatures there are in each temperature class:\n",
    "\n",
    "    1. Create four variables called `zeros`, `ones`, `twos`, and `threes` \n",
    "    2. Count and assign to each variable how many times values 0, 1, 2, and 3 are present in the `temp_classes` list and print out the results below. In other words, assign the value of how many time `0` is in the list to the variable `zeros`, and so on. \n",
    "  \n",
    "**TIP**: You might want to consider using the [**count()** function](https://www.tutorialspoint.com/python3/list_count.htm) OR a for loop for this."
   ]
  },
  {
   "cell_type": "code",
   "execution_count": 9,
   "id": "c217612d",
   "metadata": {},
   "outputs": [],
   "source": [
    "# 1. How many 0 values exist in the temp_classes list?\n",
    "\n",
    "# 2. How many 1 values exist in the temp_classes list?\n",
    "\n",
    "# 3. How many 2 values exist in the temp_classes list?\n",
    "\n",
    "# 4. How many 3 values exist in the temp_classes list?"
   ]
  },
  {
   "cell_type": "markdown",
   "id": "67a2a3e1",
   "metadata": {},
   "source": []
  },
  {
   "cell_type": "code",
   "execution_count": null,
   "id": "99b161df",
   "metadata": {},
   "outputs": [],
   "source": []
  }
 ],
 "metadata": {
  "kernelspec": {
   "display_name": "Python 3 (ipykernel)",
   "language": "python",
   "name": "python3"
  },
  "language_info": {
   "codemirror_mode": {
    "name": "ipython",
    "version": 3
   },
   "file_extension": ".py",
   "mimetype": "text/x-python",
   "name": "python",
   "nbconvert_exporter": "python",
   "pygments_lexer": "ipython3",
   "version": "3.11.5"
  }
 },
 "nbformat": 4,
 "nbformat_minor": 5
}
