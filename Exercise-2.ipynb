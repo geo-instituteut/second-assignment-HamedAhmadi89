{
 "cells": [
  {
   "cell_type": "markdown",
   "id": "fd1cb6ae",
   "metadata": {},
   "source": [
    "## Problem 1 - Batch processing data files with a `for`\n",
    "\n",
    "This problem is meant to simulate a common problem dealing with data files: batch processing. Batch processing involves using scripts to repeat a process with many data files, and one common task is generating a list of filenames that will be processed or saved to disk.\n",
    "\n",
    "For this problem you will need to modify the code blocks below and add code to produce the desired outcomes. \n",
    "\n",
    "\n"
   ]
  },
  {
   "cell_type": "markdown",
   "id": "ba86b97c",
   "metadata": {},
   "source": [
    "### Part 1 \n",
    "\n",
    "- Create a new variable called `basename` that contains the text `\"Station\"`."
   ]
  },
  {
   "cell_type": "code",
   "execution_count": 2,
   "id": "1f9a2dee",
   "metadata": {},
   "outputs": [],
   "source": [
    "# YOUR CODE HERE\n"
   ]
  },
  {
   "cell_type": "code",
   "execution_count": null,
   "id": "c4f626cc",
   "metadata": {},
   "outputs": [],
   "source": [
    "# Test print of the variable\n",
    "print(basename)"
   ]
  },
  {
   "cell_type": "markdown",
   "id": "00f880ee",
   "metadata": {},
   "source": [
    "\n",
    "- Create a new variable `filenames` that is an empty list."
   ]
  },
  {
   "cell_type": "code",
   "execution_count": 3,
   "id": "02860ac8",
   "metadata": {},
   "outputs": [],
   "source": [
    "# YOUR CODE HERE\n"
   ]
  },
  {
   "cell_type": "code",
   "execution_count": null,
   "id": "40ac01cf",
   "metadata": {},
   "outputs": [],
   "source": [
    "# Test print of the variable\n",
    "print(filenames)"
   ]
  },
  {
   "cell_type": "markdown",
   "id": "8b1579d6",
   "metadata": {},
   "source": [
    "### Part 2 \n",
    "\n",
    "- Using a `for` loop, iterate over the number range 0-20. Within the loop you should:\n",
    "    - Create a variable `station` that contains:\n",
    "        1. the text from the `basename` variable\n",
    "        2. the number\n",
    "        3. the file extension `.txt`  \n",
    "    - Add the content of `station` to the `filenames` list, which should have following content in the end:\n",
    "\n",
    "      ```\n",
    "      ['Station_0.txt', 'Station_1.txt', 'Station_2.txt', 'Station_3.txt',\n",
    "       'Station_4.txt', 'Station_5.txt', 'Station_6.txt', 'Station_7.txt',\n",
    "       'Station_8.txt', 'Station_9.txt', 'Station_10.txt', 'Station_11.txt',\n",
    "       'Station_12.txt', 'Station_13.txt', 'Station_14.txt', 'Station_15.txt',\n",
    "       'Station_16.txt', 'Station_17.txt', 'Station_18.txt', 'Station_19.txt',\n",
    "       'Station_20.txt']\n",
    "      ```"
   ]
  },
  {
   "cell_type": "code",
   "execution_count": null,
   "id": "d282f96c",
   "metadata": {},
   "outputs": [],
   "source": [
    "# YOUR CODE HERE\n"
   ]
  },
  {
   "cell_type": "code",
   "execution_count": null,
   "id": "982c4830",
   "metadata": {},
   "outputs": [],
   "source": [
    "# Test print of the results\n",
    "print(filenames)"
   ]
  },
  {
   "cell_type": "code",
   "execution_count": null,
   "id": "eebcb5be",
   "metadata": {},
   "outputs": [],
   "source": [
    "# Check that there are 21 values in the list\n",
    "assert len(filenames) == 21, 'The length of the list \"filenames\" should be 21'"
   ]
  },
  {
   "cell_type": "markdown",
   "id": "184ebb01",
   "metadata": {},
   "source": [
    "### Part 3 \n",
    "\n",
    "Here, we ask you a few questions to make sure you have understood the concepts in this problem. Answer briefly in a few sentences using the Markdown cell below.\n",
    "\n",
    "You can also write any feedback or questions concerning this problem in this Markdown cell.\n",
    "\n",
    "1. Is the concept of a loop clear to you? If not, what is difficult to understand?\n",
    "2. Did you include comments in your code blocks? If not, please add them now :)\n",
    "  \n",
    "Write your answers below (double click to activate and edit the cell below)."
   ]
  },
  {
   "cell_type": "markdown",
   "id": "c35ecd95",
   "metadata": {},
   "source": [
    "YOUR ANSWER HERE"
   ]
  },
  {
   "cell_type": "markdown",
   "id": "717eabf3",
   "metadata": {},
   "source": [
    "## Problem 2 - Classifying temperatures \n",
    "\n",
    "### Overview\n",
    "\n",
    "This problem is designed to introduce you to the very common and useful concept of data classification.\n",
    "In this problem your aim is to classify daily temperatures (in degrees Celsius) stored in the `temperatures` list into four different classes:\n",
    "\n",
    "- **Cold**: Temperatures of less than -2 degrees\n",
    "- **Slippery**: Temperatures equal to or warmer than -2 degrees, but less than +2 degrees\n",
    "- **Comfortable**: Temperatures equal to or warmer than +2 degrees, but less than +15 degrees\n",
    "- **Warm**: Temperatures equal to or warmer than +15 degrees\n",
    "\n",
    "To solve this problem, you should modify and fill in the missing parts in the following cells.\n",
    "\n",
    "\n"
   ]
  },
  {
   "cell_type": "markdown",
   "id": "90debe9e",
   "metadata": {},
   "source": [
    "## Data description\n",
    "\n",
    "The data for this problem comprise a list of night-time, daytime and evening temperatures for April 2013 recorded at the Helsinki Malmi Airport. The list contains 90 values since there are 3 values for each day (and April has 30 days). The first value of a given day represents night, the second one is for the daytime, and the third one is for the evening temperature."
   ]
  },
  {
   "cell_type": "code",
   "execution_count": null,
   "id": "b8f70d74",
   "metadata": {},
   "outputs": [],
   "source": [
    "temperatures = [-5.4, 1.0, -1.3, -4.8, 3.9, 0.1, -4.4, 4.0, -2.2, -3.9, 4.4,\n",
    "                -2.5, -4.6, 5.1, 2.1, -2.4, 1.9, -3.3, -4.8, 1.0, -0.8, -2.8,\n",
    "                -0.1, -4.7, -5.6, 2.6, -2.7, -4.6, 3.4, -0.4, -0.9, 3.1, 2.4,\n",
    "                1.6, 4.2, 3.5, 2.6, 3.1, 2.2, 1.8, 3.3, 1.6, 1.5, 4.7, 4.0,\n",
    "                3.6, 4.9, 4.8, 5.3, 5.6, 4.1, 3.7, 7.6, 6.9, 5.1, 6.4, 3.8,\n",
    "                4.0, 8.6, 4.1, 1.4, 8.9, 3.0, 1.6, 8.5, 4.7, 6.6, 8.1, 4.5,\n",
    "                4.8, 11.3, 4.7, 5.2, 11.5, 6.2, 2.9, 4.3, 2.8, 2.8, 6.3, 2.6,\n",
    "                -0.0, 7.3, 3.4, 4.7, 9.3, 6.4, 5.4, 7.6, 5.2]"
   ]
  },
  {
   "cell_type": "markdown",
   "id": "988e31c6",
   "metadata": {},
   "source": [
    "### Part 1 \n",
    "\n",
    "- Create four empty lists for the different temperature classes:\n",
    "\n",
    "    - `cold`\n",
    "    - `slippery`\n",
    "    - `comfortable`\n",
    "    - `warm`\n",
    "  \n",
    "Be sure to use these **exact** names for your lists."
   ]
  },
  {
   "cell_type": "code",
   "execution_count": 8,
   "id": "2efb4e2e",
   "metadata": {},
   "outputs": [],
   "source": [
    "# YOUR CODE HERE\n"
   ]
  },
  {
   "cell_type": "code",
   "execution_count": null,
   "id": "d87ac2a8",
   "metadata": {},
   "outputs": [],
   "source": [
    "# Test print for all lists (they should be empty at this point)\n",
    "print(cold, slippery, comfortable, warm)"
   ]
  },
  {
   "cell_type": "markdown",
   "id": "f2f6f1df",
   "metadata": {},
   "source": [
    "### Part 2 (2 points)\n",
    "\n",
    "Iterate over the temperatures and add temperatures to the different temperature classes defined below:\n",
    "\n",
    "- **Cold**: Temperatures of less than -2 degrees\n",
    "- **Slippery**: Temperatures equal to or warmer than -2 degrees, but less than +2 degrees\n",
    "- **Comfortable**: Temperatures equal to or warmer than +2 degrees, but less than +15 degrees\n",
    "- **Warm**: Temperatures equal to or warmer than +15 degrees"
   ]
  },
  {
   "cell_type": "code",
   "execution_count": null,
   "id": "a6ea3861",
   "metadata": {},
   "outputs": [],
   "source": [
    "# YOUR CODE HERE\n"
   ]
  },
  {
   "cell_type": "code",
   "execution_count": null,
   "id": "cefa8f7e",
   "metadata": {},
   "outputs": [],
   "source": [
    "# Test prints for all lists (now they should contain values)\n",
    "print(cold, slippery, comfortable, warm)"
   ]
  },
  {
   "cell_type": "markdown",
   "id": "4335dfb3",
   "metadata": {},
   "source": [
    "### Part 3 \n",
    "\n",
    "Please answer the following questions by modifying the Python cells below:\n",
    "\n",
    "- How many times was it slippery during the study period?"
   ]
  },
  {
   "cell_type": "code",
   "execution_count": null,
   "id": "88ce75c1",
   "metadata": {},
   "outputs": [],
   "source": [
    "# Edit the variable to find correct answer\n",
    "slippery_times = 'XXX'\n",
    "\n",
    "# YOUR CODE HERE\n"
   ]
  },
  {
   "cell_type": "code",
   "execution_count": null,
   "id": "efe628bb",
   "metadata": {},
   "outputs": [],
   "source": [
    "# Print the answer\n",
    "print(f\"In April 2013 it was slippery {slippery_times} times.\")"
   ]
  },
  {
   "cell_type": "markdown",
   "id": "3c7326ec",
   "metadata": {},
   "source": [
    "\n",
    "- How many times was it warm during the study period?"
   ]
  },
  {
   "cell_type": "code",
   "execution_count": null,
   "id": "013fface",
   "metadata": {},
   "outputs": [],
   "source": [
    "# Edit the variable to find correct answer\n",
    "warm_times = 'XXX'\n",
    "\n",
    "# YOUR CODE HERE"
   ]
  },
  {
   "cell_type": "code",
   "execution_count": null,
   "id": "184282bc",
   "metadata": {},
   "outputs": [],
   "source": [
    "# Print the answer\n",
    "print(f\"In April 2013 it was warm {warm_times} times.\")"
   ]
  },
  {
   "cell_type": "markdown",
   "id": "65c215ca",
   "metadata": {},
   "source": [
    "How many times was it cold during the study period?"
   ]
  },
  {
   "cell_type": "code",
   "execution_count": null,
   "id": "32a4e967",
   "metadata": {},
   "outputs": [],
   "source": [
    "# Edit the variable to find correct answer\n",
    "cold_times = 'XXX'\n",
    "\n",
    "# YOUR CODE HERE"
   ]
  },
  {
   "cell_type": "code",
   "execution_count": null,
   "id": "d9e40fd3",
   "metadata": {},
   "outputs": [],
   "source": [
    "# Print the answer\n",
    "print(f\"In April 2013 it was cold {cold_times} times.\")"
   ]
  },
  {
   "cell_type": "markdown",
   "id": "86ba8290",
   "metadata": {},
   "source": [
    "### Part 4 \n",
    "\n",
    "Here, we ask a few questions to make sure you have understood the concepts in this problem. Answer shortly in a few sentences using the Markdown cell below.\n",
    "\n",
    "You can also write any feedback or questions concerning this problem in this Markdown cell.\n",
    "\n",
    "1. Is the concept of conditional statements clear to you? If not, what is difficult to understand?\n",
    "2. Did you include comments in your code blocks? If not, do it now :) \n",
    "  \n",
    "Write your answers below (double click to activate and edit the cell below)."
   ]
  },
  {
   "cell_type": "markdown",
   "id": "f9b8f0e8",
   "metadata": {},
   "source": [
    "YOUR ANSWER HERE"
   ]
  },
  {
   "cell_type": "markdown",
   "id": "8bf9250c",
   "metadata": {},
   "source": [
    "## Problem 3 - Allocating locations \n",
    "\n",
    "### Overview\n",
    "\n",
    "The map below shows the locations of weather stations in Finland (blue points) that are more than 70 years old [1].\n",
    "In this problem we are interested to find out whether the station network was equally distributed across Finland\n",
    "seventy years ago. We have divided Finland into four geographical zones (Northwest, Northeast, Southwest, Southeast) according the approximate center point of the Finnish mainland located at `26.3, 64.5` (longitude, latitude in decimal degrees).\n",
    "\n",
    "\n",
    "\n",
    "[1]: The locations and the age of weather stations were obtained from: http://en.ilmatieteenlaitos.fi/observation-stations\n",
    "\n",
    "Below, we have given you the coordinates of 34 weather stations.\n",
    "The location of a single station is determined with a pair of latitude and longitude coordinates.\n",
    "The coordinates of all the stations are separated into two lists (`lat` and `lon`) and the names of the stations are in the `stations` list. From these lists, you would get, for example, the location of the first station by combining the latitude and longitude coordinates from the coordinate lists, and the name of that station from the `stations` list at index `0`.\n",
    "\n",
    "### Problem statement\n",
    "\n",
    "In this problem your task is to print the names of weather stations located in different zones. **Optionally**, you can also report the share of weather stations that allocated to each zone that could be used to evaluate if certain zone was over/under-represented 70 years ago. This optional task does not affect your score on this problem.\n",
    "\n",
    "To solve this problem, you should modify and fill in the missing parts in the code cells below.\n",
    "\n"
   ]
  },
  {
   "cell_type": "markdown",
   "id": "4c4227a0",
   "metadata": {},
   "source": [
    "## The data\n",
    "\n",
    "Here, we provide the data you should use to solve Problem 3 (run the cell to store values in memory)."
   ]
  },
  {
   "cell_type": "code",
   "execution_count": 10,
   "id": "6d47a80f",
   "metadata": {},
   "outputs": [],
   "source": [
    "# Station names\n",
    "stations = ['Hanko Russarö', 'Heinola Asemantaus', 'Helsinki Kaisaniemi', \n",
    "            'Helsinki Malmi airfield', 'Hyvinkää Hyvinkäänkylä', 'Joutsa Savenaho', \n",
    "            'Juuka Niemelä', 'Jyväskylä airport', 'Kaarina Yltöinen', 'Kauhava airfield', \n",
    "            'Kemi Kemi-Tornio airport', 'Kotka Rankki', 'Kouvola Anjala', \n",
    "            'Kouvola Utti airport', 'Kuopio Maaninka', 'Kuusamo airport', \n",
    "            'Lieksa Lampela', 'Mustasaari Valassaaret', 'Parainen Utö', 'Pori airport', \n",
    "            'Rovaniemi Apukka', 'Salo Kärkkä', 'Savonlinna Punkaharju Laukansaari', \n",
    "            'Seinäjoki Pelmaa', 'Siikajoki Ruukki', 'Siilinjärvi Kuopio airport', \n",
    "            'Tohmajärvi Kemie', 'Utsjoki Nuorgam', 'Vaala Pelso', 'Vaasa airport', \n",
    "            'Vesanto Sonkari', 'Vieremä Kaarakkala', 'Vihti Maasoja', 'Ylitornio Meltosjärvi']\n",
    "\n",
    "# Latitude coordinates of Weather stations  \n",
    "lats = [59.77, 61.2, 60.18, 60.25, 60.6, 61.88, 63.23, 62.4,\n",
    "       60.39, 63.12, 65.78, 60.38, 60.7, 60.9, 63.14, 65.99,\n",
    "       63.32, 63.44, 59.78, 61.47, 66.58, 60.37, 61.8, 62.94,\n",
    "       64.68, 63.01, 62.24, 70.08, 64.501, 63.06, 62.92, 63.84,\n",
    "       60.42, 66.53]\n",
    "\n",
    "# Longitude coordinates of Weather stations \n",
    "lons = [22.95, 26.05, 24.94, 25.05, 24.8, 26.09, 29.23, 25.67, \n",
    "       22.55, 23.04, 24.58, 26.96, 26.81, 26.95, 27.31, 29.23, \n",
    "       30.05, 21.07, 21.37, 21.79, 26.01, 23.11, 29.32, 22.49, \n",
    "       25.09, 27.8, 30.35, 27.9, 26.42, 21.75, 26.42, 27.22, \n",
    "       24.4, 24.65]\n",
    "\n",
    "# Cutoff values that correspond to the centroid of Finnish mainland\n",
    "# North - South\n",
    "north_south_cutoff = 64.5\n",
    "\n",
    "# East-West\n",
    "east_west_cutoff = 26.3"
   ]
  },
  {
   "cell_type": "markdown",
   "id": "8a57a80f",
   "metadata": {},
   "source": [
    "### Part 1 \n",
    "\n",
    "- Create four empty lists for the geographical zones in Finland. Use **exactly** these variable names:\n",
    "   - `north_west`\n",
    "   - `north_east`\n",
    "   - `south_west`\n",
    "   - `south_east`"
   ]
  },
  {
   "cell_type": "code",
   "execution_count": null,
   "id": "545258d1",
   "metadata": {},
   "outputs": [],
   "source": [
    "# YOUR CODE HERE"
   ]
  },
  {
   "cell_type": "code",
   "execution_count": null,
   "id": "6267e429",
   "metadata": {},
   "outputs": [],
   "source": [
    "# This test print should work\n",
    "print(north_west, south_west)"
   ]
  },
  {
   "cell_type": "markdown",
   "id": "0c9eefa6",
   "metadata": {},
   "source": [
    "### Part 2\n",
    "\n",
    "- Count the total number of stations and store that value in the variable `n`."
   ]
  },
  {
   "cell_type": "code",
   "execution_count": null,
   "id": "a0ebe8ef",
   "metadata": {},
   "outputs": [],
   "source": [
    "# YOUR CODE HERE\n"
   ]
  },
  {
   "cell_type": "code",
   "execution_count": null,
   "id": "c5686fb7",
   "metadata": {},
   "outputs": [],
   "source": [
    "# How many stations do we have?\n",
    "print(f\"In the dataset there are {n} stations.\")"
   ]
  },
  {
   "cell_type": "markdown",
   "id": "179509a3",
   "metadata": {},
   "source": [
    "### Part 3 \n",
    "\n",
    "- Make a loop that iterates `n` times, and allocates stations to different geographical zones based on their coordinates. "
   ]
  },
  {
   "cell_type": "code",
   "execution_count": 12,
   "id": "a4265d76",
   "metadata": {},
   "outputs": [],
   "source": [
    "# YOUR CODE HERE"
   ]
  },
  {
   "cell_type": "markdown",
   "id": "85091312",
   "metadata": {},
   "source": [
    "### Part 4  \n",
    "\n",
    "- In the following cells, you should print out the correct station names for each geographical zone.\n",
    "    - We have given you the correct number of stations as a hint for each zone, so it is easier for you to know whether you have correct answer. "
   ]
  },
  {
   "cell_type": "code",
   "execution_count": null,
   "id": "28f54bd9",
   "metadata": {},
   "outputs": [],
   "source": [
    "# This test print should print out station names in North West\n",
    "# Hint: there should be 4 stations in this class\n",
    "print(f\"The names of the Northwest stations are:\\n{north_west}\")"
   ]
  },
  {
   "cell_type": "code",
   "execution_count": null,
   "id": "cf654864",
   "metadata": {},
   "outputs": [],
   "source": [
    "# This test print should print out station names in North Eest\n",
    "# Hint: there should be 3 stations in this class\n",
    "print(f\"The names of the Northeast stations are:\\n{north_east}\")"
   ]
  },
  {
   "cell_type": "code",
   "execution_count": null,
   "id": "fb506966",
   "metadata": {},
   "outputs": [],
   "source": [
    "# This test print should print out station names in South West\n",
    "# Hint: there should be 16 stations in this class\n",
    "print(f\"The names of the Southwest stations are:\\n{south_west}\")"
   ]
  },
  {
   "cell_type": "code",
   "execution_count": null,
   "id": "e881547d",
   "metadata": {},
   "outputs": [],
   "source": [
    "# This test print should print out station names in South East\n",
    "# Hint: there should be 11 stations in this class\n",
    "print(f\"The names of the Southeast stations are:\\n{south_east}\")"
   ]
  },
  {
   "cell_type": "markdown",
   "id": "329ddae8",
   "metadata": {},
   "source": [
    "### Part 5 \n",
    "\n",
    "Here, we ask a few questions to make sure you have understood the concepts in this problem. Answer briefly with in few sentences using the Markdown cell below.\n",
    "\n",
    "You can also write any feedback or questions concerning this problem in this Markdown cell.\n",
    "\n",
    "1. Is the concept of using the `and` operator and the difference between the `if`, `elif`, and `else` conditional statements clear to you? If not, what is difficult to understand?\n",
    "2. Did you include comments in your code blocks? If not, please add them now :)\n",
    "\n",
    "Write your answers below (double click to activate and edit the cell below)."
   ]
  },
  {
   "cell_type": "markdown",
   "id": "dfeb7240",
   "metadata": {},
   "source": [
    "YOUR ANSWER HERE"
   ]
  },
  {
   "cell_type": "code",
   "execution_count": null,
   "id": "69966edb",
   "metadata": {},
   "outputs": [],
   "source": []
  },
  {
   "cell_type": "code",
   "execution_count": null,
   "id": "27ea9f71",
   "metadata": {},
   "outputs": [],
   "source": []
  },
  {
   "cell_type": "code",
   "execution_count": null,
   "id": "e25bfd35",
   "metadata": {},
   "outputs": [],
   "source": []
  },
  {
   "cell_type": "code",
   "execution_count": null,
   "id": "2c9a94b4",
   "metadata": {},
   "outputs": [],
   "source": []
  },
  {
   "cell_type": "code",
   "execution_count": null,
   "id": "b2d228bc",
   "metadata": {},
   "outputs": [],
   "source": []
  }
 ],
 "metadata": {
  "kernelspec": {
   "display_name": "Python 3 (ipykernel)",
   "language": "python",
   "name": "python3"
  },
  "language_info": {
   "codemirror_mode": {
    "name": "ipython",
    "version": 3
   },
   "file_extension": ".py",
   "mimetype": "text/x-python",
   "name": "python",
   "nbconvert_exporter": "python",
   "pygments_lexer": "ipython3",
   "version": "3.11.5"
  }
 },
 "nbformat": 4,
 "nbformat_minor": 5
}
